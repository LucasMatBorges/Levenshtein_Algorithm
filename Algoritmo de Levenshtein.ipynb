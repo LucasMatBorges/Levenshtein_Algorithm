{
 "cells": [
  {
   "cell_type": "code",
   "execution_count": 2,
   "metadata": {
    "collapsed": false
   },
   "outputs": [
    {
     "name": "stdout",
     "output_type": "stream",
     "text": [
      "2\n",
      "3\n"
     ]
    }
   ],
   "source": [
    "def Levensthein(palavra1,palavra2): # declaração da função\n",
    "    if len(palavra1) > len(palavra2): # verifica se a palavra1 é maior que a palavra2\n",
    "        palavra1,palavra2 = palavra2,palavra1 # inverte a ordem caso palavra2 > palavra1\n",
    "    sequencia = range(len(palavra1) + 1) # gera a primeira sequencia\n",
    "    for index2,caractere2 in enumerate(palavra2): # gera o index e o caractere correspondente \n",
    "        sequenciaFinal = [index2+1] # lista sequenciaFinal\n",
    "        for index1,caractere1 in enumerate(palavra1): # início de verificação para a segunda palavra\n",
    "            if caractere1 == caractere2: # comparação\n",
    "                sequenciaFinal.append(sequencia[index1]) # adição\n",
    "            else:\n",
    "                sequenciaFinal.append(1+min((sequencia[index1],sequencia[index1+1],sequenciaFinal[-1]))) #seleciona o menor valor  \n",
    "        sequencia = sequenciaFinal # sequencia é trocada (assim é possível \"carregar\" a distância)\n",
    "    return sequencia[-1]\n",
    " \n",
    "print(Levensthein(\"Dress & Go\",\"Dres & Gu\"))\n",
    "print(Levensthein(\"Jimmy Choo\",\"Jimi Cho\"))"
   ]
  },
  {
   "cell_type": "code",
   "execution_count": null,
   "metadata": {
    "collapsed": true
   },
   "outputs": [],
   "source": []
  }
 ],
 "metadata": {
  "anaconda-cloud": {},
  "kernelspec": {
   "display_name": "Python [default]",
   "language": "python",
   "name": "python3"
  },
  "language_info": {
   "codemirror_mode": {
    "name": "ipython",
    "version": 3
   },
   "file_extension": ".py",
   "mimetype": "text/x-python",
   "name": "python",
   "nbconvert_exporter": "python",
   "pygments_lexer": "ipython3",
   "version": "3.5.2"
  }
 },
 "nbformat": 4,
 "nbformat_minor": 1
}
